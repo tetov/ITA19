{
 "cells": [
  {
   "cell_type": "code",
   "execution_count": null,
   "metadata": {},
   "outputs": [],
   "source": [
    "from notebook.services.config import ConfigManager\n",
    "cm = ConfigManager()\n",
    "cm.update('livereveal', {'scroll': True,})\n",
    "\n",
    "%load_ext autoreload\n",
    "%autoreload 2\n",
    "\n",
    "import os\n",
    "import sys\n",
    "sys.path.append(os.path.abspath(\".\"))\n",
    "\n",
    "from threejs_viewer import RobotArtist\n",
    "\n",
    "import matplotlib.pyplot as plt\n",
    "%matplotlib inline"
   ]
  },
  {
   "cell_type": "code",
   "execution_count": null,
   "metadata": {},
   "outputs": [],
   "source": [
    "%%html\n",
    "<style>\n",
    "body.rise-enabled div.code_cell{\n",
    "    font-size:60%;\n",
    "}\n",
    "\n",
    "body.rise-enabled div.inner_cell>div.promt_container{\n",
    "    width:10%;\n",
    "}\n",
    "\n",
    "body.rise-enabled div.inner_cell>div.text_cell_render.rendered_html {\n",
    "    font-size: 50%;\n",
    "}\n",
    "</style>"
   ]
  },
  {
   "cell_type": "markdown",
   "metadata": {
    "slideshow": {
     "slide_type": "slide"
    }
   },
   "source": [
    "# Robotic fabrication fundamentals II"
   ]
  },
  {
   "cell_type": "markdown",
   "metadata": {
    "slideshow": {
     "slide_type": "slide"
    }
   },
   "source": [
    "## Motion planning\n",
    "\n",
    "* Collision checking (= path planning)\n",
    "* Trajectory checking (synchronization, consider speed and acceleration of moving objects) \n",
    "\n",
    "<img src=\"images/path_planning_00.png\" width=\"600\" />"
   ]
  },
  {
   "cell_type": "markdown",
   "metadata": {
    "slideshow": {
     "slide_type": "slide"
    }
   },
   "source": [
    "# Collision checking\n",
    "\n",
    "* Intricate positions (spatial assembly)\n",
    "* Multiple robots working closely\n",
    "\n",
    "<table>\n",
    "<tr>\n",
    "<td><img src=\"http://www.dfab.arch.ethz.ch/data/ProjectImages/02_Web/M/248/190617_248_robotic_setup_3x2_AX_WM.jpg\" style=\"height: 300px\" /></td>\n",
    "<td><img src=\"http://www.dfab.arch.ethz.ch/data/ProjectImages/02_Web/M/188/160922_188_BuildupPrototype_MP_01_WM.jpg\" style=\"height: 300px\" /></td>\n",
    "</tr>\n",
    "</table>\n",
    "\n"
   ]
  },
  {
   "cell_type": "markdown",
   "metadata": {
    "slideshow": {
     "slide_type": "slide"
    }
   },
   "source": [
    "# Trajectory checking\n",
    "\n",
    "* Synchronisation\n",
    "* Continuous processes\n",
    "\n",
    "<table>\n",
    "<tr>\n",
    "<td><img src=\"images/path_planning_04.jpg\" style=\"height: 300px\" /></td>\n",
    "<td><img src=\"http://www.dfab.arch.ethz.ch/web/images/content/GKR_Infrastructure_7.jpg\" style=\"height: 300px\" /></td>\n",
    "</tr>\n",
    "</table>\n"
   ]
  },
  {
   "cell_type": "markdown",
   "metadata": {
    "slideshow": {
     "slide_type": "notes"
    }
   },
   "source": [
    "Explain execution // planning.\n",
    "why planning for cartesian?"
   ]
  },
  {
   "cell_type": "markdown",
   "metadata": {
    "slideshow": {
     "slide_type": "slide"
    }
   },
   "source": [
    "## Path vs. Trajectory"
   ]
  },
  {
   "cell_type": "markdown",
   "metadata": {
    "slideshow": {
     "slide_type": "fragment"
    }
   },
   "source": [
    "### Path\n",
    "A sequence of robot configurations in a particular order without regard to the timing between these configurations\n",
    "(geometric path, obstacle avoidance, shortest path).\n",
    "\n",
    "### Trajectory\n",
    "Is concerned about the timing between these configurations (involving accelleration, speed, limits)."
   ]
  },
  {
   "cell_type": "code",
   "execution_count": null,
   "metadata": {
    "slideshow": {
     "slide_type": "slide"
    }
   },
   "outputs": [],
   "source": [
    "\"\"\"Example: Joint Trajectory Point and Joint Trajectory\n",
    "\"\"\"\n",
    "\n",
    "from compas.robots import Joint\n",
    "from compas_fab.robots import Configuration\n",
    "from compas_fab.robots import JointTrajectory\n",
    "from compas_fab.robots import JointTrajectoryPoint\n",
    "\n",
    "# create configuration\n",
    "values = [1.571, 0, 0, 0.262, 0, 0]\n",
    "types = [Joint.REVOLUTE] * 6\n",
    "c = Configuration(values, types)\n",
    "\n",
    "# create joint trajectory point\n",
    "p = JointTrajectoryPoint(values, types)\n",
    "print(p.accelerations)\n",
    "print(p.velocities)\n",
    "print(p.time_from_start)\n",
    "\n",
    "# create joint trajectory\n",
    "trj = JointTrajectory([p])\n",
    "print(trj)\n"
   ]
  },
  {
   "cell_type": "markdown",
   "metadata": {
    "slideshow": {
     "slide_type": "slide"
    }
   },
   "source": [
    "## MoveIt!\n",
    "\n",
    "* ROS’ default motion planning library\n",
    "* Works with different planners: OMPL (Open Motion Planning Library)\n",
    "* Collision checking through FCL (Flexible Collision Library)\n",
    "* Kinematics plugins (default KDL: Kinematics and Dynamics Library)\n",
    "* Trajectory processing routine\n",
    "\n",
    "<img src=\"https://moveit.ros.org/assets/images/moveit2_logo_black.png\" width=\"300\">\n"
   ]
  },
  {
   "cell_type": "markdown",
   "metadata": {
    "slideshow": {
     "slide_type": "slide"
    }
   },
   "source": [
    "https://gramaziokohler.github.io/compas_fab/latest/backends/ros.html"
   ]
  },
  {
   "cell_type": "markdown",
   "metadata": {
    "slideshow": {
     "slide_type": "slide"
    }
   },
   "source": [
    "docker compose up"
   ]
  },
  {
   "cell_type": "markdown",
   "metadata": {
    "slideshow": {
     "slide_type": "slide"
    }
   },
   "source": [
    "## RViz in web browser\n",
    "\n",
    "\n",
    "http://localhost:8080/vnc.html?resize=scale&autoconnect=true\n",
    "\n",
    "## RViz in web browser (if you have Docker Toolbox)\n",
    "\n",
    "\n",
    "http://192.168.99.100:8080/vnc.html?resize=scale&autoconnect=true"
   ]
  },
  {
   "cell_type": "markdown",
   "metadata": {
    "slideshow": {
     "slide_type": "slide"
    }
   },
   "source": [
    "<img src=\"images/moveit_ur5.jpg\" width=\"700\" />"
   ]
  },
  {
   "cell_type": "markdown",
   "metadata": {
    "slideshow": {
     "slide_type": "slide"
    }
   },
   "source": [
    "<img src=\"images/moveit_rfl.jpg\" width=\"700\" />"
   ]
  },
  {
   "cell_type": "markdown",
   "metadata": {
    "slideshow": {
     "slide_type": "slide"
    }
   },
   "source": [
    "<img src=\"images/moveit_ddad.jpg\" width=\"700\" />"
   ]
  },
  {
   "cell_type": "markdown",
   "metadata": {
    "slideshow": {
     "slide_type": "slide"
    }
   },
   "source": [
    "<div align='middle'>\n",
    "<video width=\"800\" controls=\"controls\">\n",
    "      <source src=\"images/191022_248_staubli_full_speed_acoustic_lab.mp4\" type=\"video/mp4\">\n",
    "</video>\n",
    "</div>\n"
   ]
  },
  {
   "cell_type": "markdown",
   "metadata": {
    "slideshow": {
     "slide_type": "slide"
    }
   },
   "source": [
    "## OMPL Planners\n",
    "\n",
    "PRM, RRT, EST, SBL, KPIECE, SyCLOP, ...\n",
    "\n",
    "https://ompl.kavrakilab.org/"
   ]
  },
  {
   "cell_type": "markdown",
   "metadata": {
    "slideshow": {
     "slide_type": "slide"
    }
   },
   "source": [
    "## RRT (Rapidly-Exploring Random Tree) \n",
    "\n",
    "<img src=\"https://nakkaya.com/images/post/rrt-5-0.png\" width=\"700\" />"
   ]
  },
  {
   "cell_type": "code",
   "execution_count": null,
   "metadata": {
    "slideshow": {
     "slide_type": "slide"
    }
   },
   "outputs": [],
   "source": [
    "\"\"\"Example: list available services via roslibpy\n",
    "\"\"\"\n",
    "\n",
    "from compas_fab.backends import RosClient\n",
    "\n",
    "with RosClient() as client:\n",
    "    for service in sorted(client.get_services()):\n",
    "        print(service)\n"
   ]
  },
  {
   "cell_type": "markdown",
   "metadata": {
    "slideshow": {
     "slide_type": "slide"
    }
   },
   "source": [
    "## Robot class in compas_fab\n",
    "\n",
    "`robot = Robot(model, artist, semantics, client)`\n",
    "\n",
    "* model: The robot model, usually created from an URDF structure.\n",
    "* artist: Instance of the artist used to visualize the robot\n",
    "* semantics: The semantic model of the robot (planning group, disabled joints)\n",
    "* client: The backend client to use for communication (planning requests, execution tasks)"
   ]
  },
  {
   "cell_type": "code",
   "execution_count": null,
   "metadata": {
    "slideshow": {
     "slide_type": "slide"
    }
   },
   "outputs": [],
   "source": [
    "import compas_fab\n",
    "from compas.robots import RobotModel\n",
    "from compas.robots import LocalPackageMeshLoader\n",
    "from compas_fab.robots import Robot\n",
    "from compas_fab.robots import RobotSemantics\n",
    "from threejs_viewer import RobotArtist\n",
    "\n",
    "urdf_filename = compas_fab.get('universal_robot/ur_description/urdf/ur5.urdf')\n",
    "srdf_filename = compas_fab.get('universal_robot/ur5_moveit_config/config/ur5.srdf')\n",
    "\n",
    "model = RobotModel.from_urdf_file(urdf_filename)\n",
    "loader = LocalPackageMeshLoader(compas_fab.get('universal_robot'), 'ur_description')\n",
    "model.load_geometry(loader)\n",
    "\n",
    "semantics = RobotSemantics.from_srdf_file(srdf_filename, model)\n",
    "artist = RobotArtist(model)\n",
    "\n",
    "robot = Robot(model, artist=artist, semantics=semantics)\n",
    "robot"
   ]
  },
  {
   "cell_type": "code",
   "execution_count": null,
   "metadata": {
    "slideshow": {
     "slide_type": "slide"
    }
   },
   "outputs": [],
   "source": [
    "robot.info()"
   ]
  },
  {
   "cell_type": "markdown",
   "metadata": {
    "slideshow": {
     "slide_type": "slide"
    }
   },
   "source": [
    "## Inverse kinematic"
   ]
  },
  {
   "cell_type": "code",
   "execution_count": null,
   "metadata": {},
   "outputs": [],
   "source": [
    "from compas.geometry import Frame\n",
    "from compas_fab.backends import RosClient\n",
    "from compas_fab.robots import Configuration\n",
    "\n",
    "frame = Frame([0.3, 0.1, 0.5], [1, 0, 0], [0, 1, 0])\n",
    "start_configuration = Configuration.from_revolute_values([0] * 6)\n",
    "group = \"manipulator\" # or robot.main_group_name\n",
    "\n",
    "# for those with docker toolbox: check your IP, usually 192.168.99.100\n",
    "ip = \"127.0.0.1\"\n",
    "\n",
    "with RosClient(ip) as client:\n",
    "    robot.client = client\n",
    "    config = robot.inverse_kinematics(frame, start_configuration, group)\n",
    "\n",
    "print(config)\n",
    "\n",
    "frame_RCF = robot.forward_kinematics(config, backend='model')\n",
    "frame_WCF = robot.represent_frame_in_WCF(frame_RCF)\n",
    "print(frame_WCF)"
   ]
  },
  {
   "cell_type": "code",
   "execution_count": null,
   "metadata": {
    "slideshow": {
     "slide_type": "slide"
    }
   },
   "outputs": [],
   "source": [
    "from threejs_viewer import ThreeJsViewer\n",
    "\n",
    "robot.update(config)\n",
    "geo = robot.draw_visual()\n",
    "viewer = ThreeJsViewer()\n",
    "viewer.show(geometry=geo)"
   ]
  },
  {
   "cell_type": "markdown",
   "metadata": {
    "slideshow": {
     "slide_type": "slide"
    }
   },
   "source": [
    "## 8 (analytic) ik solutions for 6-axis robot\n",
    "\n",
    "<img src=\"images/all_ik.jpg\" width=\"800\">"
   ]
  },
  {
   "cell_type": "markdown",
   "metadata": {
    "slideshow": {
     "slide_type": "slide"
    }
   },
   "source": [
    "## Cartesian path\n",
    "\n",
    "<div align=\"middle\"><img src=\"images/cpath.jpg\" width=\"600\"/></div>"
   ]
  },
  {
   "cell_type": "markdown",
   "metadata": {
    "slideshow": {
     "slide_type": "slide"
    }
   },
   "source": [
    "## Difference between cartesian motion and free-space motion\n",
    "\n",
    "* task space vs joint space\n",
    "* `movel` vs. `movej` "
   ]
  },
  {
   "cell_type": "code",
   "execution_count": null,
   "metadata": {
    "slideshow": {
     "slide_type": "slide"
    }
   },
   "outputs": [],
   "source": [
    "from compas.geometry import Frame\n",
    "from compas_fab.backends import RosClient\n",
    "from compas_fab.robots import Configuration\n",
    "\n",
    "frames = []\n",
    "frames.append(Frame([0.3, 0.1, 0.5], [1, 0, 0], [0, 1, 0]))\n",
    "frames.append(Frame([0.5, 0.1, 0.6], [1, 0, 0], [0, 1, 0]))\n",
    "start_configuration = Configuration.from_revolute_values([-0.042, 0.033, -2.174, 5.282, -1.528, 0.000])\n",
    "\n",
    "ip = \"127.0.0.1\"\n",
    "with RosClient(ip) as client:\n",
    "    robot.client = client\n",
    "\n",
    "    trajectory = robot.plan_cartesian_motion(frames,\n",
    "                                             start_configuration,\n",
    "                                             max_step=0.01,\n",
    "                                             avoid_collisions=True)\n",
    "\n",
    "print(\"Computed cartesian path with %d configurations, \" % len(trajectory.points))\n",
    "print(\"following %d%% of requested trajectory.\" % (trajectory.fraction * 100))\n",
    "print(\"Executing this path at full speed would take approx. %.3f seconds.\" % trajectory.time_from_start)"
   ]
  },
  {
   "cell_type": "code",
   "execution_count": null,
   "metadata": {
    "slideshow": {
     "slide_type": "slide"
    }
   },
   "outputs": [],
   "source": [
    "positions = []\n",
    "velocities = []\n",
    "accelerations = []\n",
    "time_from_start = []\n",
    "\n",
    "for p in trajectory.points:\n",
    "    positions.append(p.positions)\n",
    "    velocities.append(p.velocities)\n",
    "    accelerations.append(p.accelerations)\n",
    "    time_from_start.append(p.time_from_start.seconds)"
   ]
  },
  {
   "cell_type": "code",
   "execution_count": null,
   "metadata": {
    "slideshow": {
     "slide_type": "slide"
    }
   },
   "outputs": [],
   "source": [
    "import matplotlib.pyplot as plt\n",
    "\n",
    "plt.rcParams['figure.figsize'] = [17, 4]\n",
    "plt.subplot(131)\n",
    "plt.title('positions')\n",
    "plt.plot(positions)\n",
    "plt.subplot(132)\n",
    "plt.plot(velocities)\n",
    "plt.title('velocities')\n",
    "plt.subplot(133)\n",
    "plt.plot(accelerations)\n",
    "plt.title('accelerations')"
   ]
  },
  {
   "cell_type": "markdown",
   "metadata": {
    "slideshow": {
     "slide_type": "slide"
    }
   },
   "source": [
    "# Free-space motion\n",
    "\n",
    "The problem of motion planning can be stated as follows. \n",
    "\n",
    "Given:\n",
    "* A start pose of the robot\n",
    "* A desired goal pose\n",
    "* A geometric description of the robot\n",
    "* A geometric description of the world\n",
    "\n",
    "Find a path that moves the robot gradually from start to goal while never touching any obstacle "
   ]
  },
  {
   "cell_type": "markdown",
   "metadata": {
    "slideshow": {
     "slide_type": "slide"
    }
   },
   "source": [
    "<img src=\"http://www.willowgarage.com/sites/default/files/blog/200909/path_planning_01.600h.png\" />"
   ]
  },
  {
   "cell_type": "markdown",
   "metadata": {
    "slideshow": {
     "slide_type": "slide"
    }
   },
   "source": [
    "## Constraints\n",
    "\n",
    "* __JointConstraint__\n",
    "        Constrains the value of a joint to be within a certain bound.\n",
    "* __OrientationConstraint__\n",
    "        Constrains a link to be within a certain orientation.\n",
    "* __PositionConstraint__\n",
    "        Constrains a link to be within a certain bounding volume."
   ]
  },
  {
   "cell_type": "code",
   "execution_count": null,
   "metadata": {
    "slideshow": {
     "slide_type": "slide"
    }
   },
   "outputs": [],
   "source": [
    "from compas.geometry import Sphere\n",
    "from compas.geometry import Frame\n",
    "from compas_fab.robots import BoundingVolume\n",
    "from compas_fab.robots import JointConstraint\n",
    "from compas_fab.robots import OrientationConstraint\n",
    "from compas_fab.robots import PositionConstraint\n",
    "\n",
    "# Joint Constraint\n",
    "jc = JointConstraint(\"joint_0\", 1.4, tolerance=0.1, weight=1.)\n",
    "print(jc)\n",
    "\n",
    "# Position Constraint\n",
    "bv = BoundingVolume.from_sphere(Sphere((3,4,5), 0.5))\n",
    "pc = PositionConstraint('link_0', bv, weight=1.)\n",
    "print(pc)\n",
    "\n",
    "# Orientation Constraint\n",
    "frame = Frame([1, 1, 1], [0.68, 0.68, 0.27], [-0.67, 0.73, -0.15])\n",
    "oc = OrientationConstraint(\"link_0\", frame.quaternion, tolerances=[0.1, 0.1, 0.1], weight=1.)\n",
    "print(oc)\n",
    "                        "
   ]
  },
  {
   "cell_type": "code",
   "execution_count": null,
   "metadata": {
    "slideshow": {
     "slide_type": "slide"
    }
   },
   "outputs": [],
   "source": [
    "import math\n",
    "from compas.geometry import Frame\n",
    "from compas_fab.robots import Configuration\n",
    "from compas_fab.backends import RosClient\n",
    "\n",
    "frame = Frame([0.4, 0.3, 0.4], [0, 1, 0], [0, 0, 1])\n",
    "tolerance_position = 0.001\n",
    "tolerance_axes = [math.radians(1)] * 3\n",
    "\n",
    "start_configuration = Configuration.from_revolute_values([-0.042, 4.295, 0, -3.327, 4.755, 0.])\n",
    "group = robot.main_group_name\n",
    "\n",
    "# create goal constraints from frame\n",
    "goal_constraints = robot.constraints_from_frame(frame,\n",
    "                                                tolerance_position,\n",
    "                                                tolerance_axes,\n",
    "                                                group)\n",
    "\n",
    "# Other planners 'PRM'\n",
    "with RosClient() as client:\n",
    "    robot.client = client\n",
    "    \n",
    "    trajectory = robot.plan_motion(goal_constraints,\n",
    "                                   start_configuration,\n",
    "                                   group,\n",
    "                                   planner_id='RRT')\n",
    "\n",
    "print(\"Computed kinematic path with %d configurations.\" % len(trajectory.points))\n",
    "print(\"Executing this path at full speed would take approx. %.3f seconds.\" % trajectory.time_from_start)"
   ]
  },
  {
   "cell_type": "code",
   "execution_count": null,
   "metadata": {},
   "outputs": [],
   "source": [
    "positions = []\n",
    "velocities = []\n",
    "accelerations = []\n",
    "time_from_start = []\n",
    "\n",
    "for p in trajectory.points:\n",
    "    positions.append(p.positions)\n",
    "    velocities.append(p.velocities)\n",
    "    accelerations.append(p.accelerations)\n",
    "    time_from_start.append(p.time_from_start.seconds)"
   ]
  },
  {
   "cell_type": "code",
   "execution_count": null,
   "metadata": {
    "slideshow": {
     "slide_type": "slide"
    }
   },
   "outputs": [],
   "source": [
    "plt.rcParams['figure.figsize'] = [17, 4]\n",
    "plt.subplot(131)\n",
    "plt.title('positions')\n",
    "plt.plot(positions)\n",
    "plt.subplot(132)\n",
    "plt.plot(velocities)\n",
    "plt.title('velocities')\n",
    "plt.subplot(133)\n",
    "plt.plot(accelerations)\n",
    "plt.title('accelerations')"
   ]
  },
  {
   "cell_type": "markdown",
   "metadata": {
    "slideshow": {
     "slide_type": "slide"
    }
   },
   "source": [
    "## Planning scene and collision objects"
   ]
  },
  {
   "cell_type": "markdown",
   "metadata": {
    "slideshow": {
     "slide_type": "slide"
    }
   },
   "source": [
    "## Collision meshes"
   ]
  },
  {
   "cell_type": "code",
   "execution_count": null,
   "metadata": {
    "slideshow": {
     "slide_type": "-"
    }
   },
   "outputs": [],
   "source": [
    "\"\"\"Example: add a floor to the planning scene\n",
    "\"\"\"\n",
    "import time\n",
    "\n",
    "from compas.datastructures import Mesh\n",
    "\n",
    "import compas_fab\n",
    "from compas_fab.backends import RosClient\n",
    "from compas_fab.robots import CollisionMesh\n",
    "from compas_fab.robots import PlanningScene\n",
    "from compas_fab.robots.ur5 import Robot\n",
    "\n",
    "with RosClient() as client:\n",
    "    robot = Robot(client)\n",
    "\n",
    "    scene = PlanningScene(robot)\n",
    "    mesh = Mesh.from_stl(compas_fab.get('planning_scene/floor.stl'))\n",
    "    cm = CollisionMesh(mesh, 'floor')\n",
    "    scene.add_collision_mesh(cm)\n",
    "\n",
    "    # sleep a bit before terminating the client\n",
    "    time.sleep(1)"
   ]
  },
  {
   "cell_type": "code",
   "execution_count": null,
   "metadata": {
    "slideshow": {
     "slide_type": "slide"
    }
   },
   "outputs": [],
   "source": [
    "\"\"\"Example: remove the floor from the planning scene\n",
    "\"\"\"\n",
    "import time\n",
    "\n",
    "from compas_fab.backends import RosClient\n",
    "from compas_fab.robots import PlanningScene\n",
    "from compas_fab.robots.ur5 import Robot\n",
    "\n",
    "with RosClient() as client:\n",
    "    robot = Robot(client)\n",
    "    scene = PlanningScene(robot)\n",
    "    scene.remove_collision_mesh('floor')\n",
    "\n",
    "    # sleep a bit before terminating the client\n",
    "    time.sleep(1)"
   ]
  },
  {
   "cell_type": "code",
   "execution_count": null,
   "metadata": {
    "slideshow": {
     "slide_type": "slide"
    }
   },
   "outputs": [],
   "source": [
    "\"\"\"Example: add several bricks to the planning scene.\n",
    "Note: APPEND instead of ADD\n",
    "\"\"\"\n",
    "\n",
    "import time\n",
    "\n",
    "from compas.datastructures import Mesh\n",
    "from compas.geometry import Box\n",
    "\n",
    "from compas_fab.backends import RosClient\n",
    "from compas_fab.robots import CollisionMesh\n",
    "from compas_fab.robots import PlanningScene\n",
    "from compas_fab.robots.ur5 import Robot\n",
    "\n",
    "with RosClient() as client:\n",
    "\n",
    "    robot = Robot(client)\n",
    "    scene = PlanningScene(robot)\n",
    "\n",
    "    brick = Box.from_width_height_depth(0.11, 0.07, 0.25)\n",
    "\n",
    "    for i in range(5):\n",
    "        mesh = Mesh.from_vertices_and_faces(brick.vertices, brick.faces)\n",
    "        cm = CollisionMesh(mesh, 'brick')\n",
    "        cm.frame.point.y += 0.5\n",
    "        cm.frame.point.z += brick.zsize * i\n",
    "\n",
    "        scene.append_collision_mesh(cm)\n",
    "\n",
    "    # sleep a bit before terminating the client\n",
    "    time.sleep(1)"
   ]
  },
  {
   "cell_type": "code",
   "execution_count": null,
   "metadata": {
    "slideshow": {
     "slide_type": "slide"
    }
   },
   "outputs": [],
   "source": [
    "\"\"\"Example: remove the floor from the planning scene\n",
    "\"\"\"\n",
    "import time\n",
    "\n",
    "from compas_fab.backends import RosClient\n",
    "from compas_fab.robots import PlanningScene\n",
    "from compas_fab.robots.ur5 import Robot\n",
    "\n",
    "with RosClient() as client:\n",
    "    robot = Robot(client)\n",
    "    scene = PlanningScene(robot)\n",
    "    scene.remove_collision_mesh('brick')\n",
    "\n",
    "    # sleep a bit before terminating the client\n",
    "    time.sleep(1)"
   ]
  },
  {
   "cell_type": "markdown",
   "metadata": {
    "slideshow": {
     "slide_type": "slide"
    }
   },
   "source": [
    "## Attach a collision mesh to a robot’s end-effector"
   ]
  },
  {
   "cell_type": "code",
   "execution_count": null,
   "metadata": {
    "slideshow": {
     "slide_type": "slide"
    }
   },
   "outputs": [],
   "source": [
    "import time\n",
    "\n",
    "from compas.datastructures import Mesh\n",
    "\n",
    "import compas_fab\n",
    "from compas_fab.backends import RosClient\n",
    "from compas_fab.robots import CollisionMesh\n",
    "from compas_fab.robots import PlanningScene\n",
    "from compas_fab.robots.ur5 import Robot\n",
    "\n",
    "with RosClient() as client:\n",
    "\n",
    "    robot = Robot(client)\n",
    "    scene = PlanningScene(robot)\n",
    "\n",
    "    # create collison object\n",
    "    mesh = Mesh.from_stl(compas_fab.get('planning_scene/cone.stl'))\n",
    "    cm = CollisionMesh(mesh, 'tip')\n",
    "\n",
    "    # attach it to the end-effector\n",
    "    group = robot.main_group_name\n",
    "    scene.attach_collision_mesh_to_robot_end_effector(cm, group=group)\n",
    "\n",
    "    # sleep a bit before terminating the client\n",
    "    time.sleep(1)"
   ]
  },
  {
   "cell_type": "code",
   "execution_count": null,
   "metadata": {
    "slideshow": {
     "slide_type": "slide"
    }
   },
   "outputs": [],
   "source": [
    "import math\n",
    "from compas.geometry import Frame\n",
    "from compas_fab.backends import RosClient\n",
    "from compas_fab.robots import Configuration\n",
    "from compas_fab.robots import AttachedCollisionMesh\n",
    "\n",
    "frame = Frame([0.4, 0.3, 0.4], [0, 1, 0], [0, 0, 1])\n",
    "tolerance_position = 0.001\n",
    "tolerance_axes = [math.radians(1)] * 3\n",
    "\n",
    "start_configuration = Configuration.from_revolute_values([-0.042, 4.295, 0, -3.327, 4.755, 0.])\n",
    "group = robot.main_group_name\n",
    "\n",
    "# create attached collision object\n",
    "mesh = Mesh.from_stl(compas_fab.get('planning_scene/cone.stl'))\n",
    "cm = CollisionMesh(mesh, 'tip')\n",
    "ee_link_name = 'ee_link'\n",
    "touch_links = ['wrist_3_link', 'ee_link']\n",
    "acm = AttachedCollisionMesh(cm, ee_link_name, touch_links)\n",
    "\n",
    "# create goal constraints from frame\n",
    "goal_constraints = robot.constraints_from_frame(frame,\n",
    "                                                tolerance_position,\n",
    "                                                tolerance_axes,\n",
    "                                                group)\n",
    "\n",
    "# Other planners 'PRM'\n",
    "with RosClient() as client:\n",
    "    robot.client = client    \n",
    "    trajectory = robot.plan_motion(goal_constraints,\n",
    "                                   start_configuration,\n",
    "                                   group,\n",
    "                                   planner_id='RRT',\n",
    "                                   attached_collision_meshes=[acm])\n",
    "\n",
    "print(\"Computed kinematic path with %d configurations.\" % len(trajectory.points))\n",
    "print(\"Executing this path at full speed would take approx. %.3f seconds.\" % trajectory.time_from_start)"
   ]
  },
  {
   "cell_type": "markdown",
   "metadata": {
    "slideshow": {
     "slide_type": "slide"
    }
   },
   "source": [
    "## Continue with grasshopper...\n",
    "\n",
    "https://github.com/compas-dev/compas_fab/blob/master/docs/examples/03_backends_ros/files/robot.ghx\n"
   ]
  }
 ],
 "metadata": {
  "celltoolbar": "Slideshow",
  "kernelspec": {
   "display_name": "Python 3",
   "language": "python",
   "name": "python3"
  },
  "language_info": {
   "codemirror_mode": {
    "name": "ipython",
    "version": 3
   },
   "file_extension": ".py",
   "mimetype": "text/x-python",
   "name": "python",
   "nbconvert_exporter": "python",
   "pygments_lexer": "ipython3",
   "version": "3.6.7"
  }
 },
 "nbformat": 4,
 "nbformat_minor": 2
}
