{
 "cells": [
  {
   "cell_type": "code",
   "execution_count": null,
   "metadata": {},
   "outputs": [],
   "source": [
    "Robot programming\n",
    "\n",
    "* Traditional programming (KRL, Staubli ,. ...)"
   ]
  },
  {
   "cell_type": "markdown",
   "metadata": {},
   "source": [
    "## Traditional robot programming\n",
    "\n",
    "<table width=\"100%\">\n",
    "<tr>\n",
    "<td>\n",
    "image\n",
    "</td>\n",
    "<td>\n",
    "<strong>ABB</strong>: RAPID <br/>\n",
    "<strong>Stäubli</strong>: VAL3 <br/>\n",
    "<strong>UR</strong>: URScript <br/>\n",
    "<strong>Kuka</strong>: KRL <br/>\n",
    "</td>\n",
    "</tr>\n",
    "</table>"
   ]
  },
  {
   "cell_type": "code",
   "execution_count": null,
   "metadata": {},
   "outputs": [],
   "source": []
  }
 ],
 "metadata": {
  "kernelspec": {
   "display_name": "Python 3",
   "language": "python",
   "name": "python3"
  },
  "language_info": {
   "codemirror_mode": {
    "name": "ipython",
    "version": 3
   },
   "file_extension": ".py",
   "mimetype": "text/x-python",
   "name": "python",
   "nbconvert_exporter": "python",
   "pygments_lexer": "ipython3",
   "version": "3.6.7"
  }
 },
 "nbformat": 4,
 "nbformat_minor": 2
}
