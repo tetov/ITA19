{
 "cells": [
  {
   "cell_type": "code",
   "execution_count": null,
   "metadata": {
    "slideshow": {
     "slide_type": "skip"
    }
   },
   "outputs": [],
   "source": [
    "from notebook.services.config import ConfigManager\n",
    "cm = ConfigManager()\n",
    "cm.update('livereveal', {'scroll': True,})\n",
    "\n",
    "%load_ext autoreload\n",
    "%autoreload 2\n",
    "\n",
    "import os\n",
    "import sys\n",
    "sys.path.append(os.path.abspath(\".\"))\n",
    "\n",
    "from threejs_viewer import RobotArtist"
   ]
  },
  {
   "cell_type": "code",
   "execution_count": null,
   "metadata": {
    "slideshow": {
     "slide_type": "skip"
    }
   },
   "outputs": [],
   "source": [
    "%%html\n",
    "<style>\n",
    "body.rise-enabled div.code_cell{\n",
    "    font-size:60%;\n",
    "}\n",
    "\n",
    "body.rise-enabled div.inner_cell>div.promt_container{\n",
    "    width:10%;\n",
    "}\n",
    "\n",
    "body.rise-enabled div.inner_cell>div.text_cell_render.rendered_html {\n",
    "    font-size: 50%;\n",
    "}\n",
    "</style>"
   ]
  },
  {
   "cell_type": "markdown",
   "metadata": {
    "slideshow": {
     "slide_type": "slide"
    }
   },
   "source": [
    "# Robot model"
   ]
  },
  {
   "cell_type": "markdown",
   "metadata": {
    "cell_style": "center",
    "slideshow": {
     "slide_type": "slide"
    }
   },
   "source": [
    "# Kinematic model\n",
    "\n",
    "A robotic arm is considered as a kinematic chain of rigid bodies (or links) connected by joints to provide constrained motion.\n",
    "These links are constrained by their connections to other links.\n",
    "\n",
    "All rigid body movements are rotations, translations, or combinations of the two.\n",
    "\n",
    "kinematics = subdomain of mechanics, contrary to dynamics it concerns laws of motion without considering forces"
   ]
  },
  {
   "cell_type": "markdown",
   "metadata": {
    "slideshow": {
     "slide_type": "slide"
    }
   },
   "source": [
    "<img src=\"https://gramaziokohler.github.io/compas_fab/latest/_images/01_robot_links_and_joints.jpg\" />"
   ]
  },
  {
   "cell_type": "markdown",
   "metadata": {
    "slideshow": {
     "slide_type": "slide"
    }
   },
   "source": [
    "## Kinematic chains\n",
    "\n",
    "<table>\n",
    "<tr>\n",
    "<td><img src=\"https://upload.wikimedia.org/wikipedia/commons/2/2c/Modele_cinematique_corps_humain.svg\" style=\"height: 300px\" /></td>\n",
    "<td><img src=\"https://upload.wikimedia.org/wikipedia/commons/thumb/a/a0/ATHLETE_robot_climbing_a_hill.jpg/640px-ATHLETE_robot_climbing_a_hill.jpg\" style=\"height: 300px\" /></td>\n",
    "<td><img src=\"https://upload.wikimedia.org/wikipedia/commons/f/f2/SteamEngine_Boulton%26Watt_1784.png\" style=\"height: 300px\" /></td>\n",
    "</tr>\n",
    "</table>"
   ]
  },
  {
   "cell_type": "markdown",
   "metadata": {
    "slideshow": {
     "slide_type": "notes"
    }
   },
   "source": [
    "In the kinematic model of a robot, the connection of different manipulator joints is known as link, and the \n",
    "integration of two or more links is called a joint. This kinematic model can be represented as a tree structure.\n",
    "The tree describes the kinematic chain, i.e., the connection of robotic links with joints, and the\n",
    "inter-dependendencies of these links.\n",
    "This tree structure plus the underlying geometric information can be defined in Unified Robot Description Format (URDF),\n",
    "which describes any robot. If the robot is mounted on external axes, these links and joints\n",
    "can be added as well."
   ]
  },
  {
   "cell_type": "markdown",
   "metadata": {
    "slideshow": {
     "slide_type": "slide"
    }
   },
   "source": [
    "## Unified Robot Description Format (URDF)"
   ]
  },
  {
   "cell_type": "markdown",
   "metadata": {
    "slideshow": {
     "slide_type": "slide"
    }
   },
   "source": [
    "### Part of ur5.urdf\n",
    "\n",
    "```xml\n",
    "<link name=\"base_link\">\n",
    "    <visual>\n",
    "      <geometry>\n",
    "        <mesh filename=\"package://ur_description/meshes/ur5/visual/base.obj\"/>\n",
    "      </geometry>\n",
    "      <material name=\"LightGrey\">\n",
    "        <color rgba=\"0.7 0.7 0.7 1.0\"/>\n",
    "      </material>\n",
    "    </visual>\n",
    "    <collision>\n",
    "      <geometry>\n",
    "        <mesh filename=\"package://ur_description/meshes/ur5/collision/base.stl\"/>\n",
    "      </geometry>\n",
    "    </collision>\n",
    "    <inertial>\n",
    "      <mass value=\"4.0\"/>\n",
    "      <origin rpy=\"0 0 0\" xyz=\"0.0 0.0 0.0\"/>\n",
    "      <inertia ixx=\"0.00443333156\" ixy=\"0.0\" ixz=\"0.0\" iyy=\"0.00443333156\" iyz=\"0.0\" izz=\"0.0072\"/>\n",
    "    </inertial>\n",
    "  </link>\n",
    "  \n",
    "  <joint name=\"shoulder_pan_joint\" type=\"revolute\">\n",
    "    <parent link=\"base_link\"/>\n",
    "    <child link=\"shoulder_link\"/>\n",
    "    <origin rpy=\"0.0 0.0 0.0\" xyz=\"0.0 0.0 0.089159\"/>\n",
    "    <axis xyz=\"0 0 1\"/>\n",
    "    <limit effort=\"150.0\" lower=\"-6.2831853\" upper=\"6.2831853\" velocity=\"3.15\"/>\n",
    "    <dynamics damping=\"0.0\" friction=\"0.0\"/>\n",
    "  </joint>\n",
    "```"
   ]
  },
  {
   "cell_type": "markdown",
   "metadata": {
    "slideshow": {
     "slide_type": "skip"
    }
   },
   "source": [
    "### Example UR5 URDF:\n",
    "\n",
    "https://github.com/ros-industrial/universal_robot/blob/kinetic-devel/ur_description/urdf/ur5.urdf.xacro"
   ]
  },
  {
   "cell_type": "code",
   "execution_count": null,
   "metadata": {
    "slideshow": {
     "slide_type": "slide"
    }
   },
   "outputs": [],
   "source": [
    "\"\"\"Example: Create robot from URDF.\n",
    "\"\"\"\n",
    "import compas_fab\n",
    "from compas.robots import RobotModel\n",
    "from compas.robots import GithubPackageMeshLoader\n",
    "\n",
    "from threejs_viewer import RobotArtist\n",
    "from threejs_viewer import ThreeJsViewer\n",
    "\n",
    "# repo, package, branch\n",
    "r = 'ros-industrial/abb'\n",
    "p = 'abb_irb6600_support'\n",
    "b = 'kinetic-devel'\n",
    "\n",
    "# download urdf and meshes from github\n",
    "loader = GithubPackageMeshLoader(r, p, b)\n",
    "urdf = loader.load_urdf('irb6640.urdf')\n",
    "\n",
    "# create robot model from URDF\n",
    "model = RobotModel.from_urdf_file(urdf)\n",
    "model.load_geometry(loader)\n",
    "\n",
    "# create robot artist\n",
    "artist = RobotArtist(model)\n",
    "artist"
   ]
  },
  {
   "cell_type": "code",
   "execution_count": null,
   "metadata": {
    "slideshow": {
     "slide_type": "slide"
    }
   },
   "outputs": [],
   "source": [
    "geo = artist.draw_visual()\n",
    "viewer = ThreeJsViewer()\n",
    "viewer.show(geometry=geo)"
   ]
  },
  {
   "cell_type": "markdown",
   "metadata": {
    "slideshow": {
     "slide_type": "slide"
    }
   },
   "source": [
    "<table>\n",
    "<tr>\n",
    "<td style=\"text-align: left\"><pre class=\"brush: python\">from compas_fab.rhino import RobotArtist</pre></td>\n",
    "<td style=\"text-align: left\"><pre class=\"brush: python\">from compas_fab.blender import RobotArtist</pre></td>\n",
    "</tr>\n",
    "<tr>\n",
    "<td><img src=\"images/robot_artist_rhino.jpg\" /></td>\n",
    "<td><img src=\"images/robot_artist_blender.jpg\" /></td>\n",
    "</tr>\n",
    "</table>"
   ]
  },
  {
   "cell_type": "markdown",
   "metadata": {
    "slideshow": {
     "slide_type": "slide"
    }
   },
   "source": [
    "## Joints\n",
    "\n",
    "The joints are the elements in a robot which helps the links to travel in different kind of movements.\n",
    "The three major types of joints are:\n",
    "\n",
    "* Revolute: A hinge joint that rotates along the axis and has a limited range specified by the upper and lower limits.\n",
    "* Prismatic: A sliding joint that slides along the axis, and has a limited range specified by the upper and lower limits.\n",
    "* Fixed: Not really a joint because it cannot move, all degrees of freedom are locked.\n"
   ]
  },
  {
   "cell_type": "code",
   "execution_count": null,
   "metadata": {},
   "outputs": [],
   "source": [
    "from compas.robots import Joint\n",
    "\n",
    "print(Joint.REVOLUTE)\n",
    "print(Joint.PRISMATIC)\n",
    "print(Joint.FIXED)"
   ]
  },
  {
   "cell_type": "markdown",
   "metadata": {
    "slideshow": {
     "slide_type": "slide"
    }
   },
   "source": [
    "## Configuration"
   ]
  },
  {
   "cell_type": "code",
   "execution_count": null,
   "metadata": {
    "slideshow": {
     "slide_type": "-"
    }
   },
   "outputs": [],
   "source": [
    "\"\"\"Example: create robot configuration\n",
    "\"\"\"\n",
    "from math import pi\n",
    "from compas_fab.robots import Configuration\n",
    "\n",
    "values = [1.5, pi]\n",
    "types = [Joint.PRISMATIC, Joint.REVOLUTE]\n",
    "\n",
    "config = Configuration(values, types)\n",
    "config = Configuration.from_revolute_values([pi/2, 0., 0., pi/2, pi, 0])\n",
    "config = Configuration.from_prismatic_and_revolute_values([8.312], [pi/2, 0., 0., 0., 2*pi, 0.8])\n"
   ]
  },
  {
   "cell_type": "markdown",
   "metadata": {
    "slideshow": {
     "slide_type": "slide"
    }
   },
   "source": [
    "## Building your own robot"
   ]
  },
  {
   "cell_type": "code",
   "execution_count": null,
   "metadata": {
    "slideshow": {
     "slide_type": "slide"
    }
   },
   "outputs": [],
   "source": [
    "import math\n",
    "from compas.geometry import *\n",
    "from compas.robots import *\n",
    "from compas_fab.robots import Configuration\n",
    "\n",
    "from threejs_viewer import RobotArtist\n",
    "from threejs_viewer import ThreeJsViewer\n",
    "\n",
    "link0 = Link(\"world\")\n",
    "\n",
    "joint1 = Joint(\"sun_joint\", 'continuous', \"world\", \"sun_link\", origin=Origin.worldXY(), axis=Axis('0 0 1'))\n",
    "link1 = Link(\"sun_link\", visual=[Visual(Geometry(sphere=Sphere(2.5)))])\n",
    "\n",
    "earth_origin = Origin((10, 0, 0), (1, 0, 0), (0, 1, 0))\n",
    "joint2 = Joint(\"earth_joint\", 'continuous', \"sun_link\", \"earth_link\", origin=earth_origin, axis=Axis('0 0 1'))\n",
    "link2 = Link(\"earth_link\", visual=[Visual(Geometry(sphere=Sphere(1)))])\n",
    "\n",
    "moon_origin = Origin((4, 0, 0), (1, 0, 0), (0, 1, 0))\n",
    "joint3 = Joint(\"moon_joint\", 'continuous', \"earth_link\", \"moon_link\", origin=moon_origin, axis=Axis('0 0 1'))\n",
    "link3 = Link(\"moon_link\", visual=[Visual(Geometry(sphere=Sphere(0.5)))])\n",
    "\n",
    "sun_system = RobotModel(\"sun_system\", joints=[joint1, joint2, joint3], links=[link0, link1, link2, link3])\n",
    "\n",
    "artist = RobotArtist(sun_system)"
   ]
  },
  {
   "cell_type": "code",
   "execution_count": null,
   "metadata": {
    "slideshow": {
     "slide_type": "slide"
    }
   },
   "outputs": [],
   "source": [
    "names = [\"sun_joint\", \"earth_joint\"]\n",
    "types =  [Joint.CONTINUOUS] * 2\n",
    "configuration = Configuration([math.radians(30), math.radians(30)], types)\n",
    "\n",
    "artist.update(configuration, names, visual=True, collision=False)\n",
    "\n",
    "geo = artist.draw_visual()\n",
    "viewer = ThreeJsViewer()\n",
    "camera_position=[0.0, 10.0, 20.0]\n",
    "viewer.show(camera_position=camera_position, geometry=geo)"
   ]
  },
  {
   "cell_type": "markdown",
   "metadata": {},
   "source": [
    "## Configuration space"
   ]
  },
  {
   "cell_type": "code",
   "execution_count": null,
   "metadata": {},
   "outputs": [],
   "source": [
    "(Workspace)\n",
    "\n",
    "<table>\n",
    "<tr>\n",
    "<td>\n",
    "https://abbcloud.blob.core.windows.net/public/images/b7207bb0-410e-4ea7-bee3-3cbbe94b0a74/i1080px.jpg\n",
    "</td>\n",
    "</tr>\n",
    "</table>"
   ]
  },
  {
   "cell_type": "markdown",
   "metadata": {
    "slideshow": {
     "slide_type": "slide"
    }
   },
   "source": [
    "## Forward and inverse kinematics"
   ]
  },
  {
   "cell_type": "markdown",
   "metadata": {
    "slideshow": {
     "slide_type": "slide"
    }
   },
   "source": [
    "<img src=\"images/ik_fk.jpg\" style=\"height: 500px\" />"
   ]
  },
  {
   "cell_type": "markdown",
   "metadata": {
    "slideshow": {
     "slide_type": "slide"
    }
   },
   "source": [
    "### Forward kinematics\n",
    "\n",
    "The forward kinematics function calculates the pose of the robot’s end-effector from a configuration (configuration space to cartesian space).\n",
    "\n",
    "The simplest way to calculate forward kinematics is based on the properties defined by the robot model:"
   ]
  },
  {
   "cell_type": "code",
   "execution_count": null,
   "metadata": {
    "slideshow": {
     "slide_type": "slide"
    }
   },
   "outputs": [],
   "source": [
    "from compas_fab.robots import Configuration\n",
    "from compas_fab.robots.ur5 import Robot\n",
    "\n",
    "robot = Robot(load_geometry=True)\n",
    "configuration = Configuration.from_revolute_values([-2.238, -1.153, -2.174, 0.185, 0.667, 0.])\n",
    "\n",
    "# Use forward kinematics of robot model\n",
    "frame_RCF = robot.forward_kinematics(configuration, backend='model')\n",
    "frame_WCF = robot.represent_frame_in_WCF(frame_RCF)\n",
    "\n",
    "print(\"Frame in the robot's coordinate system\")\n",
    "print(frame_RCF)\n",
    "print(\"Frame in the world coordinate system\")\n",
    "print(frame_WCF)"
   ]
  },
  {
   "cell_type": "code",
   "execution_count": null,
   "metadata": {
    "slideshow": {
     "slide_type": "slide"
    }
   },
   "outputs": [],
   "source": [
    "from threejs_viewer import RobotArtist\n",
    "from threejs_viewer import ThreeJsViewer\n",
    "\n",
    "artist = RobotArtist(robot.model)\n",
    "robot.artist = artist\n",
    "robot.update(configuration)\n",
    "geo = robot.draw_visual()\n",
    "viewer = ThreeJsViewer()\n",
    "viewer.show(geometry=geo)"
   ]
  },
  {
   "cell_type": "markdown",
   "metadata": {
    "slideshow": {
     "slide_type": "slide"
    }
   },
   "source": [
    "## Question\n",
    "\n",
    "For robotic arms, `inverse` is the tricky operation, do you know for which kind of robots `forward` is the tricky one?"
   ]
  },
  {
   "cell_type": "markdown",
   "metadata": {
    "slideshow": {
     "slide_type": "slide"
    }
   },
   "source": [
    "## Backends : ROS\n",
    "\n",
    "in google slides.."
   ]
  },
  {
   "cell_type": "markdown",
   "metadata": {
    "slideshow": {
     "slide_type": "slide"
    }
   },
   "source": [
    "## Inverse kinematics"
   ]
  },
  {
   "cell_type": "code",
   "execution_count": null,
   "metadata": {},
   "outputs": [],
   "source": [
    "from compas.geometry import Frame\n",
    "from compas_fab.backends import RosClient\n",
    "from compas_fab.robots import Configuration\n",
    "\n",
    "frame = Frame([0.3, 0.1, 0.5], [1, 0, 0], [0, 1, 0])\n",
    "start_configuration = Configuration.from_revolute_values([0] * 6)\n",
    "group = \"manipulator\" # or robot.main_group_name\n",
    "\n",
    "with RosClient() as client:\n",
    "    robot.client = client\n",
    "    config = robot.inverse_kinematics(frame, start_configuration, group)\n",
    "\n",
    "print(config)\n",
    "\n",
    "frame_RCF = robot.forward_kinematics(config, backend=\"model\")\n",
    "frame_WCF = robot.represent_frame_in_WCF(frame_RCF)\n",
    "print(frame_WCF)"
   ]
  },
  {
   "cell_type": "markdown",
   "metadata": {
    "slideshow": {
     "slide_type": "slide"
    }
   },
   "source": [
    "### Next session\n",
    "\n",
    "* path planning\n",
    "* cartesian motion and free-space motion\n",
    "* planning scene and collision objects"
   ]
  }
 ],
 "metadata": {
  "celltoolbar": "Slideshow",
  "kernelspec": {
   "display_name": "Python 3",
   "language": "python",
   "name": "python3"
  },
  "language_info": {
   "codemirror_mode": {
    "name": "ipython",
    "version": 3
   },
   "file_extension": ".py",
   "mimetype": "text/x-python",
   "name": "python",
   "nbconvert_exporter": "python",
   "pygments_lexer": "ipython3",
   "version": "3.6.7"
  },
  "rise": {
   "theme": "white"
  }
 },
 "nbformat": 4,
 "nbformat_minor": 2
}
