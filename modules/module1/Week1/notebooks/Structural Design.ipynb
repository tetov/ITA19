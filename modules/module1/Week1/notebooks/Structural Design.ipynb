{
 "cells": [
  {
   "cell_type": "code",
   "execution_count": null,
   "metadata": {},
   "outputs": [],
   "source": [
    "# design of structures\n",
    "# balancing structural, functional, fabricational, and aesthetical requirements\n",
    "# vector-active, mass-active, form-active structures\n",
    "# vector-active => e.g. truss\n",
    "# mass-active (bending-active) => e.g. beam\n",
    "# form-active => cable\n",
    "# form-active => shape not known in adavance thus has to be found through a form-finding process\n",
    "# once form found it is materialised and its response to various loading conditions evaluated.\n",
    "# this is what we will do:\n",
    "# form finding\n",
    "# materialisation\n",
    "# analysis\n",
    "# fabrication\n",
    "# many form finding methods exist\n",
    "# see Veenendaal et al.\n",
    "# FD & DR most well-known\n",
    "# we will use FD for form-finding\n",
    "# DR for analysis\n",
    "# FD is direct method => equilibrium shape is computed directly "
   ]
  }
 ],
 "metadata": {
  "kernelspec": {
   "display_name": "Python [conda env:ita19-dev] *",
   "language": "python",
   "name": "conda-env-ita19-dev-py"
  },
  "language_info": {
   "codemirror_mode": {
    "name": "ipython",
    "version": 3
   },
   "file_extension": ".py",
   "mimetype": "text/x-python",
   "name": "python",
   "nbconvert_exporter": "python",
   "pygments_lexer": "ipython3",
   "version": "3.6.7"
  }
 },
 "nbformat": 4,
 "nbformat_minor": 2
}
