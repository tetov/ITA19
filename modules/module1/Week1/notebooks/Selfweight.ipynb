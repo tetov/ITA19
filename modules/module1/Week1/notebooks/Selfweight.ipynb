{
 "cells": [
  {
   "cell_type": "markdown",
   "metadata": {
    "slideshow": {
     "slide_type": "slide"
    }
   },
   "source": [
    "# Selfweight of a Mesh"
   ]
  },
  {
   "cell_type": "markdown",
   "metadata": {
    "slideshow": {
     "slide_type": "notes"
    }
   },
   "source": [
    "During equilibrium calculations the selfweight of a cablenet/mesh/... is lumped to the vertices to be able to apply it there as a point load. Computing the selfweight of the \"geometry\" is easily done by computing the volume using an offset of the geometry along the vertex normals according to the thickness of the geometry at the node. However, to be able to lump the weight to the vertices, we need to discretise the weight and figure out how much of it is carried by each node."
   ]
  },
  {
   "cell_type": "markdown",
   "metadata": {
    "slideshow": {
     "slide_type": "slide"
    }
   },
   "source": [
    "**Construct a mesh**"
   ]
  },
  {
   "cell_type": "code",
   "execution_count": 14,
   "metadata": {
    "slideshow": {
     "slide_type": "fragment"
    }
   },
   "outputs": [],
   "source": [
    "import compas\n",
    "from compas.datastructures import Mesh\n",
    "from compas_plotters import MeshPlotter"
   ]
  },
  {
   "cell_type": "code",
   "execution_count": 15,
   "metadata": {
    "cell_style": "center",
    "slideshow": {
     "slide_type": "fragment"
    }
   },
   "outputs": [],
   "source": [
    "mesh = Mesh.from_obj(compas.get('faces.obj'))"
   ]
  },
  {
   "cell_type": "code",
   "execution_count": 21,
   "metadata": {
    "cell_style": "center",
    "slideshow": {
     "slide_type": "fragment"
    }
   },
   "outputs": [
    {
     "data": {
      "image/png": "[encoded data removed]",
      "text/plain": [
       "<Figure size 400x400 with 1 Axes>"
      ]
     },
     "metadata": {},
     "output_type": "display_data"
    }
   ],
   "source": [
    "plotter = MeshPlotter(mesh, figsize=(4, 4))\n",
    "plotter.draw_edges(width=0.5)\n",
    "plotter.show()"
   ]
  },
  {
   "cell_type": "code",
   "execution_count": 17,
   "metadata": {},
   "outputs": [
    {
     "data": {
      "text/plain": [
       "<Figure size 432x288 with 0 Axes>"
      ]
     },
     "metadata": {},
     "output_type": "display_data"
    }
   ],
   "source": []
  },
  {
   "cell_type": "markdown",
   "metadata": {
    "slideshow": {
     "slide_type": "slide"
    }
   },
   "source": [
    "**Vertex areas**"
   ]
  },
  {
   "cell_type": "code",
   "execution_count": 18,
   "metadata": {
    "slideshow": {
     "slide_type": "fragment"
    }
   },
   "outputs": [],
   "source": [
    "areas = [mesh.vertex_area(key) for key in mesh.vertices()]"
   ]
  },
  {
   "cell_type": "code",
   "execution_count": 19,
   "metadata": {
    "slideshow": {
     "slide_type": "fragment"
    }
   },
   "outputs": [
    {
     "data": {
      "image/png": "[encoded data removed]",
      "text/plain": [
       "<Figure size 400x400 with 1 Axes>"
      ]
     },
     "metadata": {},
     "output_type": "display_data"
    }
   ],
   "source": [
    "plotter = MeshPlotter(mesh, figsize=(4, 4))\n",
    "plotter.draw_edges(width=0.5)\n",
    "plotter.draw_vertices(text={key: \"{:.0f}\".format(mesh.vertex_area(key)) for key in mesh.vertices()},\n",
    "                      radius=0.3)\n",
    "plotter.show()"
   ]
  },
  {
   "cell_type": "markdown",
   "metadata": {},
   "source": [
    "## Procedure"
   ]
  },
  {
   "cell_type": "markdown",
   "metadata": {},
   "source": [
    "For any vertex\n",
    "\n",
    "* Find vertex neighbors\n",
    "* For every neighbor\n",
    "  * Find the adjacent faces\n",
    "  * For every adjacent face\n",
    "    * Decompose into triangles using centroid\n",
    "    * Compute area of triangle connected to the vertex\n",
    "\n",
    "=> Sum up all triangle areas"
   ]
  },
  {
   "cell_type": "markdown",
   "metadata": {
    "slideshow": {
     "slide_type": "slide"
    }
   },
   "source": [
    "**1. Select a vertex**"
   ]
  },
  {
   "cell_type": "code",
   "execution_count": 20,
   "metadata": {
    "slideshow": {
     "slide_type": "fragment"
    }
   },
   "outputs": [
    {
     "ename": "NameError",
     "evalue": "name 'random' is not defined",
     "output_type": "error",
     "traceback": [
      "\u001b[0;31m---------------------------------------------------------------------------\u001b[0m",
      "\u001b[0;31mNameError\u001b[0m                                 Traceback (most recent call last)",
      "\u001b[0;32m<ipython-input-20-e2c5ab39b3c4>\u001b[0m in \u001b[0;36m<module>\u001b[0;34m\u001b[0m\n\u001b[0;32m----> 1\u001b[0;31m \u001b[0mvertex\u001b[0m \u001b[0;34m=\u001b[0m \u001b[0mrandom\u001b[0m\u001b[0;34m.\u001b[0m\u001b[0mchoice\u001b[0m\u001b[0;34m(\u001b[0m\u001b[0mlist\u001b[0m\u001b[0;34m(\u001b[0m\u001b[0mmesh\u001b[0m\u001b[0;34m.\u001b[0m\u001b[0mvertices\u001b[0m\u001b[0;34m(\u001b[0m\u001b[0;34m)\u001b[0m\u001b[0;34m)\u001b[0m\u001b[0;34m)\u001b[0m\u001b[0;34m\u001b[0m\u001b[0;34m\u001b[0m\u001b[0m\n\u001b[0m",
      "\u001b[0;31mNameError\u001b[0m: name 'random' is not defined"
     ]
    }
   ],
   "source": [
    "vertex = random.choice(list(mesh.vertices()))"
   ]
  },
  {
   "cell_type": "code",
   "execution_count": null,
   "metadata": {
    "slideshow": {
     "slide_type": "fragment"
    }
   },
   "outputs": [],
   "source": [
    "plotter = MeshPlotter(mesh, figsize=(4, 4))\n",
    "plotter.draw_vertices(keys=[vertex], text='key', facecolor={vertex: (255, 0, 0)}, radius=0.3)\n",
    "plotter.draw_edges(width=0.5)\n",
    "plotter.show()"
   ]
  },
  {
   "cell_type": "markdown",
   "metadata": {
    "slideshow": {
     "slide_type": "slide"
    }
   },
   "source": [
    "**2. Find vertex neighbors**"
   ]
  },
  {
   "cell_type": "code",
   "execution_count": null,
   "metadata": {
    "slideshow": {
     "slide_type": "fragment"
    }
   },
   "outputs": [],
   "source": [
    "mesh.vertex_neighbors(vertex)"
   ]
  },
  {
   "cell_type": "code",
   "execution_count": null,
   "metadata": {
    "slideshow": {
     "slide_type": "fragment"
    }
   },
   "outputs": [],
   "source": [
    "plotter = MeshPlotter(mesh, figsize=(4, 4))\n",
    "plotter.draw_vertices(radius=0.1, facecolor={14: (255, 0, 0)}, keys=[14])\n",
    "plotter.draw_edges(width=0.5)\n",
    "plotter.draw_arrows2(arrows)\n",
    "plotter.show()"
   ]
  },
  {
   "cell_type": "markdown",
   "metadata": {},
   "source": [
    "**4. Compute total area of connected triangles**"
   ]
  },
  {
   "cell_type": "code",
   "execution_count": null,
   "metadata": {},
   "outputs": [],
   "source": [
    "from compas.geometry import subtract_vectors\n",
    "from compas.geometry import cross_vectors\n",
    "from compas.geometry import length_vector"
   ]
  },
  {
   "cell_type": "code",
   "execution_count": null,
   "metadata": {},
   "outputs": [],
   "source": [
    "# TODO: visualise p0, p1, v1, p2, v2, area for both halfedges"
   ]
  },
  {
   "cell_type": "code",
   "execution_count": null,
   "metadata": {},
   "outputs": [],
   "source": [
    "area = 0\n",
    "\n",
    "p0 = mesh.vertex_coordinates(vertex)\n",
    "\n",
    "for nbr in mesh.vertex_neighbors(vertex):\n",
    "    p1 = mesh.vertex_coordinates(nbr)\n",
    "    v1 = subtract_vectors(p1, p0)\n",
    "    \n",
    "    face = mesh.halfedge[vertex][nbr]\n",
    "    if face is not None:\n",
    "        p2 = mesh.face_centroid(face)\n",
    "        v2 = subtract_vectors(p2, p0)\n",
    "        area += 0.25 * length_vector(cross_vectors(v1, v2)) \n",
    "    \n",
    "    face = mesh.halfedge[nbr][vertex]\n",
    "    if face is not None:\n",
    "        p3 = mesh.face_centroid(face)\n",
    "        v3 = subtract_vectors(p3, p0)\n",
    "        area += 0.25 * length_vector(cross_vectors(v1, v3))\n",
    "\n",
    "print(area == mesh.vertex_area(vertex))"
   ]
  },
  {
   "cell_type": "markdown",
   "metadata": {
    "slideshow": {
     "slide_type": "slide"
    }
   },
   "source": [
    "## Tributary area"
   ]
  },
  {
   "cell_type": "markdown",
   "metadata": {
    "slideshow": {
     "slide_type": "fragment"
    }
   },
   "source": [
    "The \"tributary area\" or \"vertex area\" of a vertex in a mesh is the area of the polygon defined by the midpoints of the connected edges and the centroids of the connected faces, sorted in either counter-clockwise or clockwise order."
   ]
  },
  {
   "cell_type": "code",
   "execution_count": null,
   "metadata": {
    "slideshow": {
     "slide_type": "slide"
    }
   },
   "outputs": [],
   "source": [
    "mesh.vertex_area(vertex)"
   ]
  },
  {
   "cell_type": "code",
   "execution_count": null,
   "metadata": {
    "slideshow": {
     "slide_type": "slide"
    }
   },
   "outputs": [],
   "source": [
    "centroids = []\n",
    "for face in mesh.vertex_faces(vertex):\n",
    "    centroid = mesh.face_centroid(face)\n",
    "    centroids.append(centroid)"
   ]
  },
  {
   "cell_type": "code",
   "execution_count": null,
   "metadata": {
    "slideshow": {
     "slide_type": "slide"
    }
   },
   "outputs": [],
   "source": [
    "midpoints = []\n",
    "for nbr in mesh.vertex_neighbors(vertex):\n",
    "    midpoint = mesh.edge_midpoint(vertex, nbr)\n",
    "    midpoints.append(midpoint)"
   ]
  },
  {
   "cell_type": "code",
   "execution_count": null,
   "metadata": {
    "slideshow": {
     "slide_type": "slide"
    }
   },
   "outputs": [],
   "source": [
    "polygon = []\n",
    "for nbr in mesh.vertex_neighbors(vertex, ordered=True)[::-1]:\n",
    "    face = mesh.halfedge[vertex][nbr]\n",
    "    if face is None:\n",
    "        continue\n",
    "    polygon.append(mesh.edge_midpoint(vertex, nbr))\n",
    "    polygon.append(mesh.face_centroid(face))"
   ]
  },
  {
   "cell_type": "code",
   "execution_count": null,
   "metadata": {
    "slideshow": {
     "slide_type": "slide"
    }
   },
   "outputs": [],
   "source": [
    "area_polygon(polygon)"
   ]
  },
  {
   "cell_type": "code",
   "execution_count": null,
   "metadata": {
    "slideshow": {
     "slide_type": "slide"
    }
   },
   "outputs": [],
   "source": [
    "arrows = []\n",
    "for nbr in mesh.vertex_neighbors(vertex):\n",
    "    arrows.append({'start': mesh.vertex_coordinates(vertex), 'end': mesh.vertex_coordinates(nbr)})\n",
    "    \n",
    "points = []\n",
    "for point in centroids:\n",
    "    points.append({'pos': point, 'radius': 0.1})\n",
    "for point in midpoints:\n",
    "    points.append({'pos': point, 'radius': 0.05})\n",
    "\n",
    "polygons = [{'points': polygon, 'facecolor': (255, 180, 180)}]"
   ]
  },
  {
   "cell_type": "code",
   "execution_count": null,
   "metadata": {
    "slideshow": {
     "slide_type": "slide"
    }
   },
   "outputs": [],
   "source": [
    "plotter = MeshPlotter(mesh, figsize=(4, 4))\n",
    "plotter.draw_vertices(radius=0.1, facecolor={14: (255, 0, 0)}, keys=[14])\n",
    "plotter.draw_edges(width=0.5)\n",
    "plotter.draw_arrows2(arrows)\n",
    "plotter.draw_points(points)\n",
    "plotter.draw_polygons(polygons)\n",
    "plotter.show()"
   ]
  },
  {
   "cell_type": "code",
   "execution_count": null,
   "metadata": {},
   "outputs": [],
   "source": []
  }
 ],
 "metadata": {
  "celltoolbar": "Slideshow",
  "kernelspec": {
   "display_name": "Python [conda env:ita19-dev] *",
   "language": "python",
   "name": "conda-env-ita19-dev-py"
  },
  "language_info": {
   "codemirror_mode": {
    "name": "ipython",
    "version": 3
   },
   "file_extension": ".py",
   "mimetype": "text/x-python",
   "name": "python",
   "nbconvert_exporter": "python",
   "pygments_lexer": "ipython3",
   "version": "3.6.7"
  }
 },
 "nbformat": 4,
 "nbformat_minor": 2
}
