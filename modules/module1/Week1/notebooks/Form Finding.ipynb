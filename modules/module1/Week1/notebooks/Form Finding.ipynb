{
 "cells": [
  {
   "cell_type": "code",
   "execution_count": null,
   "metadata": {},
   "outputs": [],
   "source": [
    "# FD vs DR procedure\n",
    "\n",
    "# Identify supports\n",
    "# Set constraints\n",
    "# Assign form finding parameters\n",
    "\n",
    "# Find equilibrium geometry\n",
    "## Compute selfweight\n",
    "## Compute equilibrium shape\n",
    "## Compute residuals\n",
    "## Repeat until convergence\n",
    "\n",
    "# Visualise the result\n",
    "\n",
    "# Define main building blocks of fofin package\n",
    "# Develop procedures\n",
    "\n",
    "# Scripts\n",
    "\n",
    "# Serialisation\n",
    "\n",
    "# Tool"
   ]
  },
  {
   "cell_type": "markdown",
   "metadata": {},
   "source": [
    "# Form Finding"
   ]
  },
  {
   "cell_type": "markdown",
   "metadata": {},
   "source": [
    "## Introduction"
   ]
  },
  {
   "cell_type": "markdown",
   "metadata": {},
   "source": [
    "The principle of form follows force is particularly relevant in structures that transfer their loads purely through axial or in-plane forces. In these cases where no bending occurs, shape is determined by forces and vice versa. Examples of discrete structures following this principle include unstrained gridshells (compression), cable-nets (tension) and tensegrity (both). These form-active shapes are not known in advance, and therefore require a form finding process."
   ]
  },
  {
   "cell_type": "code",
   "execution_count": null,
   "metadata": {},
   "outputs": [],
   "source": []
  }
 ],
 "metadata": {
  "kernelspec": {
   "display_name": "Python [conda env:ita19-dev] *",
   "language": "python",
   "name": "conda-env-ita19-dev-py"
  },
  "language_info": {
   "codemirror_mode": {
    "name": "ipython",
    "version": 3
   },
   "file_extension": ".py",
   "mimetype": "text/x-python",
   "name": "python",
   "nbconvert_exporter": "python",
   "pygments_lexer": "ipython3",
   "version": "3.6.7"
  }
 },
 "nbformat": 4,
 "nbformat_minor": 2
}
