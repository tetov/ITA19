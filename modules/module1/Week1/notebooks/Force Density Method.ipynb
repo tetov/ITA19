{
 "cells": [
  {
   "cell_type": "markdown",
   "metadata": {
    "slideshow": {
     "slide_type": "slide"
    }
   },
   "source": [
    "# Force Density Method"
   ]
  },
  {
   "cell_type": "markdown",
   "metadata": {
    "slideshow": {
     "slide_type": "fragment"
    }
   },
   "source": [
    "H.-J. Schek [1974] *The force density method for form finding and computation of general networks*. Computer Methods in Applied Mechanics and Engineering, 3(1): 115-134."
   ]
  },
  {
   "cell_type": "markdown",
   "metadata": {
    "slideshow": {
     "slide_type": "fragment"
    }
   },
   "source": [
    "The Force Density Method is a mathematical strategy for solving the equations of equilibrium for any type of cable network, without requiring any initial coordinates of  the structure. This is achieved through the exploitation of a mathematical trick. The essential ideas are as follows. Pin-jointed network structures assume the state of  equilibrium when internal forces $s$ and external forces $p$ are balanced. "
   ]
  },
  {
   "cell_type": "markdown",
   "metadata": {
    "slideshow": {
     "slide_type": "slide"
    }
   },
   "source": [
    "## Equilibrium equations"
   ]
  },
  {
   "cell_type": "markdown",
   "metadata": {
    "cell_style": "center",
    "slideshow": {
     "slide_type": "slide"
    }
   },
   "source": [
    "$$\n",
    "\\begin{aligned}\n",
    "F_{1, x} + F_{2, x} + F_{3, x} + F_{4, x} &= P_{0, x} & \\sum_{j=1}^{4} F_{j, x} &= P_{0, x} \\\\\n",
    "F_{1, y} + F_{2, y} + F_{3, y} + F_{4, y} &= P_{0, y} & \\sum_{j=1}^{4} F_{j, y} &= P_{0, y} \\\\\n",
    "F_{1, z} + F_{2, z} + F_{3, z} + F_{4, z} &= P_{0, z} & \\sum_{j=1}^{4} F_{j, z} &= P_{0, z}\n",
    "\\end{aligned}\n",
    "$$"
   ]
  },
  {
   "cell_type": "markdown",
   "metadata": {
    "cell_style": "center",
    "slideshow": {
     "slide_type": "slide"
    }
   },
   "source": [
    "$$\n",
    "\\begin{aligned}\n",
    "\\sum_{j=1}^{4} F_{j, x} &= P_{0, x} \\\\\n",
    "\\sum_{j=1}^{4} F_{j, y} &= P_{0, y} \\\\\n",
    "\\sum_{j=1}^{4} F_{j, z} &= P_{0, z}\n",
    "\\end{aligned}\n",
    "$$"
   ]
  },
  {
   "cell_type": "markdown",
   "metadata": {
    "cell_style": "center",
    "slideshow": {
     "slide_type": "slide"
    }
   },
   "source": [
    "$$\n",
    "\\begin{aligned}\n",
    "\\sum_{j=1}^{4} \\frac{F_j}{L_j} (x_j - x_0) &= P_{0, x}\\\\\n",
    "\\sum_{j=1}^{4} \\frac{F_j}{L_j} (y_j - y_0) &= P_{0, y}\\\\\n",
    "\\sum_{j=1}^{4} \\frac{F_j}{L_j} (z_j - z_0) &= P_{0, z}\n",
    "\\end{aligned}\n",
    "$$"
   ]
  },
  {
   "cell_type": "markdown",
   "metadata": {
    "slideshow": {
     "slide_type": "slide"
    }
   },
   "source": [
    "$$ L_{j} = \\sqrt{(x_j - x_i)^2 + (y_j - y_i)^2 + (z_j - z_i)^2} $$"
   ]
  },
  {
   "cell_type": "markdown",
   "metadata": {
    "slideshow": {
     "slide_type": "slide"
    }
   },
   "source": [
    "## Linearization"
   ]
  },
  {
   "cell_type": "markdown",
   "metadata": {
    "cell_style": "center",
    "slideshow": {
     "slide_type": "slide"
    }
   },
   "source": [
    "$$\n",
    "\\begin{aligned}\n",
    "& & \\sum_{j=1}^{4} Q_j (x_j - x_0) &= P_{x, 0}\\\\\n",
    "Q_j &= \\frac{F_j}{L_j} & \\sum_{j=1}^{4} Q_j (y_j - y_0) &= P_{y, 0} \\\\\n",
    "& & \\sum_{j=1}^{4} Q_j (z_j - z_0) &= P_{z, 0}\n",
    "\\end{aligned}\n",
    "$$"
   ]
  },
  {
   "cell_type": "markdown",
   "metadata": {
    "slideshow": {
     "slide_type": "slide"
    }
   },
   "source": [
    "## Connectivity matrix"
   ]
  },
  {
   "cell_type": "code",
   "execution_count": null,
   "metadata": {},
   "outputs": [],
   "source": []
  }
 ],
 "metadata": {
  "celltoolbar": "Slideshow",
  "kernelspec": {
   "display_name": "Python [conda env:ita19-dev] *",
   "language": "python",
   "name": "conda-env-ita19-dev-py"
  },
  "language_info": {
   "codemirror_mode": {
    "name": "ipython",
    "version": 3
   },
   "file_extension": ".py",
   "mimetype": "text/x-python",
   "name": "python",
   "nbconvert_exporter": "python",
   "pygments_lexer": "ipython3",
   "version": "3.6.7"
  }
 },
 "nbformat": 4,
 "nbformat_minor": 2
}
